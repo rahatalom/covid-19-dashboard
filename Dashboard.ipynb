{
 "cells": [
  {
   "cell_type": "markdown",
   "metadata": {},
   "source": [
    "# DIY Covid-19 Dashboard"
   ]
  },
  {
   "cell_type": "markdown",
   "metadata": {},
   "source": [
    "The following data aims to compare the number of new cases of COVID-19 with the number of new tests carried out. The data should provide a better picture of the rate of infection and should also provide detail regarding the porportion of people testing positive for COVID-19. The query was made all across England and has been presented on a timescale of about a year."
   ]
  },
  {
   "cell_type": "code",
   "execution_count": 1,
   "metadata": {},
   "outputs": [],
   "source": [
    "import ipywidgets as wdg\n",
    "import pandas as pd\n",
    "import numpy as np\n",
    "import matplotlib.pyplot as plt\n",
    "import json\n",
    "from uk_covid19 import Cov19API"
   ]
  },
  {
   "cell_type": "code",
   "execution_count": 2,
   "metadata": {},
   "outputs": [],
   "source": [
    "%matplotlib inline\n",
    "plt.rcParams['figure.dpi'] = 100"
   ]
  },
  {
   "cell_type": "code",
   "execution_count": 3,
   "metadata": {},
   "outputs": [],
   "source": [
    "\n",
    "filters = [\n",
    "    'areaType=nation',\n",
    "    'areaName=England'\n",
    "    \n",
    "]\n",
    "structure = {\n",
    "    \"date\": \"date\",\n",
    "    \"newCases\":\"newCasesByPublishDate\",\n",
    "    \"newTestsCarriedOut\":\"newTestsByPublishDate\"\n",
    "}\n",
    "api = Cov19API(filters=filters, structure=structure)\n",
    "testData=api.get_json()\n",
    "with open(\"testData.json\", \"wt\") as OUTF:\n",
    "    json.dump(testData, OUTF)\n",
    "jsondata=testData['data']\n",
    "jsondata[0]['newTestsCarriedOut']= 0 #this is to ensure that all data values are integers and not strings\n"
   ]
  },
  {
   "cell_type": "code",
   "execution_count": 4,
   "metadata": {},
   "outputs": [],
   "source": [
    "\n",
    "\n",
    "def wrangle_data(rawdata):\n",
    "    plt.rcParams['figure.dpi'] = 100\n",
    "    with open(\"testData.json\", \"rt\") as INFILE:\n",
    "        data=json.load(INFILE)\n",
    "    data['data'][0]['newTestsCarriedOut']= 0\n",
    "    dates=[dictionary['date'] for dictionary in rawdata ]\n",
    "    dates.sort()\n",
    "    def parse_date(datestring):\n",
    "        \"\"\" Convert a date string into a pandas datetime object \"\"\"\n",
    "        return pd.to_datetime(datestring, format=\"%Y-%m-%d\")\n",
    "    startdate=parse_date(dates[0])\n",
    "    enddate=parse_date(dates[-1])\n",
    "    index=pd.date_range(startdate, enddate, freq='D')\n",
    "    testDatadf=pd.DataFrame(index=index,columns=['newCases', 'newTestsCarriedOut'])\n",
    "    for entry in rawdata:\n",
    "        date=parse_date(entry['date'])\n",
    "        for column in ['newCases', 'newTestsCarriedOut']:\n",
    "\n",
    "            if pd.isna(testDatadf.loc[date, column]): \n",
    " \n",
    "                value= float(entry[column]) if entry[column]!=None else 0.0\n",
    "\n",
    "                testDatadf.loc[date, column]=value\n",
    "    df = testDatadf\n",
    "    return df\n",
    "\n",
    "dataframe=wrangle_data(jsondata) "
   ]
  },
  {
   "cell_type": "code",
   "execution_count": 5,
   "metadata": {},
   "outputs": [],
   "source": [
    "\n",
    "def access_api():\n",
    "    filters = [\n",
    "    'areaType=nation',\n",
    "    'areaName=England']\n",
    "    structure = {\n",
    "        \"date\": \"date\",\n",
    "        \"newCases\":\"newCasesByPublishDate\",\n",
    "        \"newTestsCarriedOut\":\"newTestsByPublishDate\"\n",
    "    }\n",
    "    api = Cov19API(filters=filters, structure=structure)\n",
    "    testData=api.get_json()\n",
    "    with open(\"testData.json\", \"wt\") as OUTF:\n",
    "        json.dump(testData, OUTF)\n",
    "    jsondata=testData['data']\n",
    "    jsondata[0]['newTestsCarriedOut']= 0\n",
    "    return jsondata \n"
   ]
  },
  {
   "cell_type": "markdown",
   "metadata": {},
   "source": [
    "# Refresh button\n",
    "The following button will allow users to refresh the api data effectively updating the data as they see fit"
   ]
  },
  {
   "cell_type": "code",
   "execution_count": 6,
   "metadata": {
    "scrolled": true
   },
   "outputs": [
    {
     "data": {
      "application/vnd.jupyter.widget-view+json": {
       "model_id": "d3b87b3a979c441e8ef053843314f5a0",
       "version_major": 2,
       "version_minor": 0
      },
      "text/plain": [
       "Button(button_style='info', description='Refresh', icon='refresh', style=ButtonStyle(), tooltip='Keep calm and…"
      ]
     },
     "metadata": {},
     "output_type": "display_data"
    }
   ],
   "source": [
    "\n",
    "def api_button_callback(button):\n",
    "    apidata=access_api()\n",
    "\n",
    "    global df\n",
    "    df=wrangle_data(apidata)\n",
    "\n",
    "    refresh_graph()\n",
    "\n",
    "    apibutton.icon=\"check\"\n",
    "\n",
    "\n",
    "    \n",
    "apibutton=wdg.Button(\n",
    "    description='Refresh', \n",
    "    disabled=False,\n",
    "    button_style='info', \n",
    "    tooltip=\"Keep calm and carry on\",\n",
    "    icon='refresh'\n",
    ")\n",
    "\n",
    "\n",
    "apibutton.on_click(api_button_callback) \n",
    "display(apibutton)\n",
    "\n"
   ]
  },
  {
   "cell_type": "markdown",
   "metadata": {},
   "source": [
    "## Graphs and Analysis"
   ]
  },
  {
   "cell_type": "markdown",
   "metadata": {},
   "source": [
    "The following graph presents the query and has an interactive widget wherby users can switch between graph data."
   ]
  },
  {
   "cell_type": "code",
   "execution_count": 7,
   "metadata": {},
   "outputs": [
    {
     "data": {
      "application/vnd.jupyter.widget-view+json": {
       "model_id": "b3fc7ea057904ddb9f4085dc6ee60bcb",
       "version_major": 2,
       "version_minor": 0
      },
      "text/plain": [
       "SelectMultiple(description='data', index=(0, 1), options=('newCases', 'newTestsCarriedOut'), rows=2, value=('n…"
      ]
     },
     "metadata": {},
     "output_type": "display_data"
    },
    {
     "data": {
      "application/vnd.jupyter.widget-view+json": {
       "model_id": "60af102347e041b3920285785c1a3bde",
       "version_major": 2,
       "version_minor": 0
      },
      "text/plain": [
       "Output()"
      ]
     },
     "metadata": {},
     "output_type": "display_data"
    }
   ],
   "source": [
    "cols=wdg.SelectMultiple(\n",
    "    options=['newCases', 'newTestsCarriedOut'], # options available\n",
    "    value=['newCases', 'newTestsCarriedOut'], # initial value\n",
    "    rows=2, \n",
    "    description='data',\n",
    "    disabled=False\n",
    "  \n",
    ")\n",
    "def plot(graphcolumns):\n",
    "    ncols=len(graphcolumns)\n",
    "    if ncols>0:\n",
    "        dataframe.plot(y=list(graphcolumns)) \n",
    "    else:\n",
    "        print(\"Click to select data for graph\")\n",
    "\n",
    "    \n",
    "   \n",
    "output=wdg.interactive_output(plot, {'graphcolumns': cols})\n",
    "\n",
    "display(cols, output)\n",
    "\n",
    "\n",
    "def refresh_graph():\n",
    "    current=cols.value\n",
    "    if current==cols.options[0]:\n",
    "        other=(cols.options[1],)\n",
    "    else:\n",
    "        other=(cols.options[0],)\n",
    "    cols.value=other # forces the redraw\n",
    "    cols.value=current # now we can change it back\n",
    "    \n",
    "    "
   ]
  }
 ],
 "metadata": {
  "kernelspec": {
   "display_name": "Python 3",
   "language": "python",
   "name": "python3"
  },
  "language_info": {
   "codemirror_mode": {
    "name": "ipython",
    "version": 3
   },
   "file_extension": ".py",
   "mimetype": "text/x-python",
   "name": "python",
   "nbconvert_exporter": "python",
   "pygments_lexer": "ipython3",
   "version": "3.8.5"
  }
 },
 "nbformat": 4,
 "nbformat_minor": 4
}
